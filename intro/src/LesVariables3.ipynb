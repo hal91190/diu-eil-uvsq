{
 "cells": [
  {
   "cell_type": "markdown",
   "metadata": {},
   "source": [
    " Une variable str  \"chaine de caractère\" stocke une structure plus complexe qu'un int ou un bool:\n",
    " Dans ce qui suit La variable x fait référence à un objet \"velo\":\n",
    " \n",
    " x=\"velo\"\n",
    " \n",
    " On peut accéder à chaque \"élément\" de la chaîne à l'aide d'un index:\n",
    " \n",
    " print(x[1]) donne accès au caractère \"e\" de la chaîne (indexe=1).\n",
    " \n",
    " Le premier élément d'une chaîne est indexé par 0.\n",
    " \n",
    " Une différence fondamentale avec les variables \"simples\" est qu'on ne peut pas modifier de\n",
    " l'intérieur le contenu d'une chaîne.\n",
    " \n",
    " L'affectation x[1]=\"s\"  provoque une erreur.\n",
    " \n",
    " On dit qu'une variable chaîne est non mutable ou immutable.\n",
    " \n",
    " Une manière de modifier le contenu d'une chaîne est d'affecter à x un nouveau contenu:\n",
    " \n",
    " x=\"bille\"\n",
    " \n",
    " \n",
    " \n",
    " \n",
    "\n"
   ]
  },
  {
   "cell_type": "code",
   "execution_count": 9,
   "metadata": {},
   "outputs": [
    {
     "name": "stdout",
     "output_type": "stream",
     "text": [
      "velo\n"
     ]
    }
   ],
   "source": [
    "#Exécuter la suite d'instructions suivantes\n",
    "\n",
    "x=\"velo\"\n",
    "\n",
    "y=x\n",
    "\n",
    "\n",
    "y=\"bille\"\n",
    "print(y)\n",
    "print(x)"
   ]
  },
  {
   "cell_type": "code",
   "execution_count": null,
   "metadata": {},
   "outputs": [],
   "source": [
    "# On peut concaténer deux chaînes de caractère\n",
    "mot1=\"bonjour \"\n",
    "mot2=\"monsieur.\"\n",
    "\n",
    "#on crée une nouvelle variable qui fait référence  à un nouvel objet \n",
    "mot=mot1+mot2\n",
    "print(mot)"
   ]
  },
  {
   "cell_type": "markdown",
   "metadata": {},
   "source": [
    "\n",
    "\n"
   ]
  },
  {
   "cell_type": "markdown",
   "metadata": {},
   "source": [
    "Une autre structure complexe est la liste:un ensemble ordonné d'éléments.\n",
    "Comme pour une chaîne , on accède à chaque élément à l'aide d'un indexe.\n",
    "\n",
    "L=[1,2,\"rue\"]\n",
    "L[2] fait référence à l'objet \"rue\"\n",
    "\n",
    "Contrairement à un str , on peut modifier une liste de l'intérieur:\n",
    "\n",
    "L[1]=\"bille\"\n",
    "\n",
    "Une liste est un objet mutable"
   ]
  },
  {
   "cell_type": "markdown",
   "metadata": {},
   "source": [
    "Les variables list ne se comportent pas comme les variables simples.\n",
    "\n",
    "Examinns l'exemple suivant:\n"
   ]
  },
  {
   "cell_type": "code",
   "execution_count": 7,
   "metadata": {},
   "outputs": [
    {
     "name": "stdout",
     "output_type": "stream",
     "text": [
      "[2, 3, 'bille']\n"
     ]
    }
   ],
   "source": [
    "\n",
    "L=[2,3]\n",
    "\n",
    "# Dans l'affectation suivante ,T et L font référence à la même structure (le même  objet)\n",
    "T=L\n",
    "\n",
    "#On ajoute un élément à la liste L\n",
    "T.append(\"bille\")\n",
    "\n",
    "#modifier T , c'est modifier L\n",
    "\n",
    "\n",
    "print(L)\n"
   ]
  },
  {
   "cell_type": "code",
   "execution_count": 11,
   "metadata": {},
   "outputs": [
    {
     "name": "stdout",
     "output_type": "stream",
     "text": [
      "[2, 'sable']\n"
     ]
    }
   ],
   "source": [
    "#Les listes ne se comportent pas de la même manière\n",
    "# Une liste est un objet mutable\n",
    "\n",
    "L=[2,3]\n",
    "\n",
    "#On peut modifier un élément d'une chaîne\n",
    "L[1]=\"sable\"\n",
    "\n",
    "print(L)"
   ]
  },
  {
   "cell_type": "code",
   "execution_count": null,
   "metadata": {},
   "outputs": [],
   "source": []
  },
  {
   "cell_type": "markdown",
   "metadata": {},
   "source": [
    "Une autre structure complexe qu'on peut affecter à une variable est le tuple\n",
    "Exemple:Un tuple à deux éléments\n",
    "P=(5,7)\n",
    "On accède à chaque élément d'un tuple à l'aide d'un indexe.\n",
    "P[0] fait référence à l'objet 5\n",
    "Un tuple n'est pas mutable.\n"
   ]
  },
  {
   "cell_type": "code",
   "execution_count": 14,
   "metadata": {},
   "outputs": [
    {
     "name": "stdout",
     "output_type": "stream",
     "text": [
      "(6, 5)\n"
     ]
    }
   ],
   "source": [
    "#affectation entre tuples\n",
    "a=(1,2)\n",
    "b=(6,5)\n",
    "a=b\n",
    "print(a)\n"
   ]
  },
  {
   "cell_type": "code",
   "execution_count": 13,
   "metadata": {},
   "outputs": [
    {
     "name": "stdout",
     "output_type": "stream",
     "text": [
      "(6, 5, 6, 5)\n"
     ]
    }
   ],
   "source": [
    "#concaténation de deux tuples\n",
    "\n",
    "\n",
    "\n",
    "#a+b pointe vers un nouvel objet\n",
    "print(a+b)"
   ]
  },
  {
   "cell_type": "raw",
   "metadata": {},
   "source": [
    "On peut modifier le contenu d'une liste à l'intérieur d'une fonction.\n",
    "\n"
   ]
  },
  {
   "cell_type": "code",
   "execution_count": 42,
   "metadata": {},
   "outputs": [
    {
     "name": "stdout",
     "output_type": "stream",
     "text": [
      "[1, 2]\n",
      "None\n",
      "[1, 2, 5]\n"
     ]
    }
   ],
   "source": [
    "\n",
    "\n",
    "def modifierliste():\n",
    "    L.append(5)\n",
    "    return \n",
    "\n",
    "L=[1,2]    \n",
    "print(L)        \n",
    "print(modifierliste())\n",
    "#L est visible à l'intérieur de la fonction\n",
    "print(L)"
   ]
  },
  {
   "cell_type": "code",
   "execution_count": null,
   "metadata": {},
   "outputs": [],
   "source": []
  }
 ],
 "metadata": {
  "kernelspec": {
   "display_name": "Python 3",
   "language": "python",
   "name": "python3"
  },
  "language_info": {
   "codemirror_mode": {
    "name": "ipython",
    "version": 3
   },
   "file_extension": ".py",
   "mimetype": "text/x-python",
   "name": "python",
   "nbconvert_exporter": "python",
   "pygments_lexer": "ipython3",
   "version": "3.7.2"
  }
 },
 "nbformat": 4,
 "nbformat_minor": 2
}
