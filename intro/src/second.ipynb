{
 "cells": [
  {
   "cell_type": "code",
   "execution_count": 2,
   "metadata": {
    "scrolled": true
   },
   "outputs": [
    {
     "name": "stdout",
     "output_type": "stream",
     "text": [
      "2\n"
     ]
    }
   ],
   "source": [
    "#pas de typage explicite ou de déclaration  en python pour les variables\n",
    "\n",
    "#l 'affectation\n",
    "x=2\n",
    "# signifie création d'un identifiant x dont la nature est un entier qui fait référence à \"l'objet\" 2\n",
    "# On a la même chose avec les variables float (nombre réel ou décimal)\n",
    "# L'affectation qui suit crée une variable dont l'identifiant z et fait référence à un décimal\n",
    "z=3.0\n",
    "\n",
    "# Par ailleurs ,l'affectation \n",
    "y=x\n",
    "#signifie que les deux variables font référence à un même objet :2\n",
    "\n",
    "#dans la 'affectation qui suit la variable x \"pointe\" vers un autre objet \"7\"\n",
    "x=7\n",
    "\n",
    "print(y) # la valeur de y ne change pas"
   ]
  },
  {
   "cell_type": "code",
   "execution_count": 44,
   "metadata": {},
   "outputs": [
    {
     "name": "stdout",
     "output_type": "stream",
     "text": [
      "140005724599712 140005724599712\n"
     ]
    }
   ],
   "source": [
    "# identité de l'objet\n",
    "x=7\n",
    "y=x\n",
    "print(id(x),id(y)) # les deux variables font référence au même objet"
   ]
  },
  {
   "cell_type": "code",
   "execution_count": 4,
   "metadata": {},
   "outputs": [
    {
     "name": "stdout",
     "output_type": "stream",
     "text": [
      "<class 'str'>\n",
      "velo\n"
     ]
    }
   ],
   "source": [
    "# une variable int x\n",
    "x=3\n",
    "# une variable chaîne de caractère y\n",
    "y=\"velo\"\n",
    "\n",
    "#l' affectation qui suit n'est pas choquante en python\n",
    "x=y\n",
    "\n",
    "# x \"pointe\" vers l'objet \"velo\"\n",
    "print(type(x))\n",
    "print(x)\n"
   ]
  },
  {
   "cell_type": "raw",
   "metadata": {},
   "source": [
    " Une variable str  \"chaine de caractère\" stocke une structure plus complexe qu'un int ou un bool:\n",
    " Dans ce qui suit La variable x fait référence à un objet \"velo\":\n",
    " \n",
    " x=\"velo\"\n",
    " \n",
    " On peut accéder à chaque \"élément\" de la chaîne à l'aide d'un index:\n",
    " \n",
    " print(x[1]) donne accès au caractère \"e\" de la chaîne (indexe=1).\n",
    " \n",
    " Le premier élément d'une chaîne est indexé par 0.\n",
    " \n",
    " Une différence fondamentale avec les variables \"simples\" est qu'on ne peut pas modifier de\n",
    " l'intérieur le contenu d'une chaîne.\n",
    " \n",
    " L'affectation x[1]=\"s\"  provoque une erreur.\n",
    " \n",
    " On dit qu'une variable chaîne est non mutable ou immutable.\n",
    " \n",
    " Une manière de modifier le contenu d'une chaîne est d'affecter à x un nouveau contenu:\n",
    " \n",
    " x=\"bille\"\n",
    " \n",
    " \n",
    " \n",
    " \n",
    "\n"
   ]
  },
  {
   "cell_type": "code",
   "execution_count": 9,
   "metadata": {},
   "outputs": [
    {
     "name": "stdout",
     "output_type": "stream",
     "text": [
      "velo\n"
     ]
    }
   ],
   "source": [
    "#Exécuter la suite d'instructions suivantes\n",
    "\n",
    "x=\"velo\"\n",
    "\n",
    "y=x\n",
    "\n",
    "\n",
    "y=\"bille\"\n",
    "print(y)\n",
    "print(x)"
   ]
  },
  {
   "cell_type": "raw",
   "metadata": {},
   "source": [
    "Une autre structure complexe est la liste:un ensemble ordonné d'éléments.\n",
    "Comme pour une chaîne , on accède à chaque élément à l'aide d'un indexe.\n",
    "\n",
    "L=[1,2,\"rue\"]\n",
    "L[2] fait référence à l'objet \"rue\"\n",
    "\n",
    "Contrairement à un str , on peut modifier une liste de l'intérieur:\n",
    "\n",
    "L[1]=\"bille\"\n",
    "\n",
    "Une liste est un objet mutable"
   ]
  },
  {
   "cell_type": "code",
   "execution_count": 7,
   "metadata": {},
   "outputs": [
    {
     "name": "stdout",
     "output_type": "stream",
     "text": [
      "[2, 3, 'bille']\n"
     ]
    }
   ],
   "source": [
    "\n",
    "L=[2,3]\n",
    "\n",
    "# Dans l'affectation suivante ,T et L font référence à la même structure (qui est un objet)\n",
    "T=L\n",
    "\n",
    "\n",
    "T.append(\"bille\")\n",
    "#L.append(\"stylo\")\n",
    "\n",
    "print(L)\n"
   ]
  },
  {
   "cell_type": "code",
   "execution_count": 11,
   "metadata": {},
   "outputs": [
    {
     "name": "stdout",
     "output_type": "stream",
     "text": [
      "[2, 'sable']\n"
     ]
    }
   ],
   "source": [
    "#Les listes ne se comportent pas de la même manière\n",
    "# Une liste est un objet mutable\n",
    "\n",
    "L=[2,3]\n",
    "\n",
    "#On peut modifier un élément d'une chaîne\n",
    "L[1]=\"sable\"\n",
    "\n",
    "print(L)"
   ]
  },
  {
   "cell_type": "code",
   "execution_count": null,
   "metadata": {},
   "outputs": [],
   "source": []
  },
  {
   "cell_type": "code",
   "execution_count": 47,
   "metadata": {},
   "outputs": [
    {
     "name": "stdout",
     "output_type": "stream",
     "text": [
      "140005287446728 140005287446728\n",
      "140005724599520 140005724599520\n",
      "[1, 2, 5, 'velo', 'velo', 'velo']\n"
     ]
    }
   ],
   "source": [
    "# Dans l'affectation suivante ,T et L font référence à la même structure (qui est un objet)\n",
    "T=L\n",
    "print(id(L),id(T)) #référence au même objet\n",
    "\n",
    "print(id(L[0]),id(T[0])) # les éléments de même indexe aussi\n",
    "\n"
   ]
  },
  {
   "cell_type": "raw",
   "metadata": {},
   "source": [
    "Une autre structure complexe qu'on peut affecter à une variable est le tuple\n",
    "Exemple:Un tuple à deux éléments\n",
    "P=(5,7)\n",
    "On accède à chaque élément d'un tuple à l'aide d'un indexe.\n",
    "P[0] fait référence à l'objet 5\n",
    "Un tuple n'est pas mutable.\n"
   ]
  },
  {
   "cell_type": "code",
   "execution_count": 5,
   "metadata": {},
   "outputs": [
    {
     "name": "stdout",
     "output_type": "stream",
     "text": [
      "46\n"
     ]
    },
    {
     "ename": "NameError",
     "evalue": "name 's' is not defined",
     "output_type": "error",
     "traceback": [
      "\u001b[0;31m---------------------------------------------------------------------------\u001b[0m",
      "\u001b[0;31mNameError\u001b[0m                                 Traceback (most recent call last)",
      "\u001b[0;32m<ipython-input-5-875af36c82ef>\u001b[0m in \u001b[0;36m<module>\u001b[0;34m\u001b[0m\n\u001b[1;32m     19\u001b[0m \u001b[0;34m\u001b[0m\u001b[0m\n\u001b[1;32m     20\u001b[0m \u001b[0mprint\u001b[0m\u001b[0;34m(\u001b[0m\u001b[0msomme\u001b[0m\u001b[0;34m(\u001b[0m\u001b[0;36m10\u001b[0m\u001b[0;34m)\u001b[0m\u001b[0;34m)\u001b[0m\u001b[0;34m\u001b[0m\u001b[0;34m\u001b[0m\u001b[0m\n\u001b[0;32m---> 21\u001b[0;31m \u001b[0mprint\u001b[0m\u001b[0;34m(\u001b[0m\u001b[0ms\u001b[0m\u001b[0;34m)\u001b[0m  \u001b[0;31m# provoque une erreur\u001b[0m\u001b[0;34m\u001b[0m\u001b[0;34m\u001b[0m\u001b[0m\n\u001b[0m\u001b[1;32m     22\u001b[0m \u001b[0;34m\u001b[0m\u001b[0m\n",
      "\u001b[0;31mNameError\u001b[0m: name 's' is not defined"
     ]
    }
   ],
   "source": [
    "# Variable locale , variable globale\n",
    "\n",
    "#une affectation à l'extérieur d'une fonction définit une variable visible de tout le programme\n",
    "# y compris à l'intérieur des fonctions\n",
    "\n",
    "#une variable est locale lorsque l'affectation qui la définit pour la première fois \n",
    "#se situe à l'intérieur d'une fonction\n",
    "\n",
    "#une variable locale nexiste plus après l'appel de la fonction\n",
    "\n",
    "# on ne peut modifier le contenu d'une variable globale à l'intérieur d'une fonction\n",
    "\n",
    "a=1\n",
    "def somme(n):\n",
    "    s=a  # on définit la variable locale s\n",
    "    for i in range(n):\n",
    "        s+=i\n",
    "    return s\n",
    "        \n",
    "print(somme(10))\n",
    "print(s)  # provoque une erreur\n",
    "    "
   ]
  },
  {
   "cell_type": "raw",
   "metadata": {},
   "source": [
    "On peut modifier le contenu d'une liste à l'intérieur d'une fonction."
   ]
  },
  {
   "cell_type": "code",
   "execution_count": 42,
   "metadata": {},
   "outputs": [
    {
     "name": "stdout",
     "output_type": "stream",
     "text": [
      "[1, 2]\n",
      "None\n",
      "[1, 2, 5]\n"
     ]
    }
   ],
   "source": [
    "\n",
    "\n",
    "def modifierliste():\n",
    "    L.append(5)\n",
    "    return \n",
    "L=[1,2]    \n",
    "print(L)        \n",
    "print(modifierliste())\n",
    "print(L)"
   ]
  },
  {
   "cell_type": "code",
   "execution_count": null,
   "metadata": {},
   "outputs": [],
   "source": []
  }
 ],
 "metadata": {
  "kernelspec": {
   "display_name": "Python 3",
   "language": "python",
   "name": "python3"
  },
  "language_info": {
   "codemirror_mode": {
    "name": "ipython",
    "version": 3
   },
   "file_extension": ".py",
   "mimetype": "text/x-python",
   "name": "python",
   "nbconvert_exporter": "python",
   "pygments_lexer": "ipython3",
   "version": "3.7.2"
  }
 },
 "nbformat": 4,
 "nbformat_minor": 2
}
